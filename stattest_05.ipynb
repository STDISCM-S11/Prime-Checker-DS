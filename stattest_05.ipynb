{
 "cells": [
  {
   "cell_type": "code",
   "execution_count": 1,
   "metadata": {},
   "outputs": [],
   "source": [
    "import numpy as np\n",
    "from scipy.stats import ttest_ind"
   ]
  },
  {
   "cell_type": "code",
   "execution_count": 2,
   "metadata": {},
   "outputs": [],
   "source": [
    "\n",
    "# Data for the first set of results (averages only)\n",
    "averages_1 = np.array([8.221, 5.180, 2.636, 1.512, 1.160, 1.136, 1.086, 1.076, 1.061, 1.058, 1.057])\n",
    "\n",
    "# Data for the second set of results (averages only)\n",
    "averages_2 = np.array([3.049, 1.920, 1.038, 0.591, 0.443, 0.432, 0.414, 0.399, 0.400, 0.407, 0.423])\n"
   ]
  },
  {
   "cell_type": "code",
   "execution_count": 3,
   "metadata": {},
   "outputs": [],
   "source": [
    "# Perform t-test\n",
    "t_stat, p_value = ttest_ind(averages_1, averages_2)"
   ]
  },
  {
   "cell_type": "code",
   "execution_count": 4,
   "metadata": {},
   "outputs": [
    {
     "name": "stdout",
     "output_type": "stream",
     "text": [
      "T-statistic: 1.9012623130957105\n",
      "P-value: 0.07177443561924217\n",
      "There is no statistically significant difference between the two sets of results.\n"
     ]
    }
   ],
   "source": [
    "print(f\"T-statistic: {t_stat}\")\n",
    "print(f\"P-value: {p_value}\")\n",
    "\n",
    "# Interpretation based on a significance level of 0.05\n",
    "if p_value < 0.05:\n",
    "    print(\"There is a statistically significant difference between the two sets of results.\")\n",
    "else:\n",
    "    print(\"There is no statistically significant difference between the two sets of results.\")\n"
   ]
  },
  {
   "cell_type": "code",
   "execution_count": null,
   "metadata": {},
   "outputs": [],
   "source": []
  }
 ],
 "metadata": {
  "kernelspec": {
   "display_name": "base",
   "language": "python",
   "name": "python3"
  },
  "language_info": {
   "codemirror_mode": {
    "name": "ipython",
    "version": 3
   },
   "file_extension": ".py",
   "mimetype": "text/x-python",
   "name": "python",
   "nbconvert_exporter": "python",
   "pygments_lexer": "ipython3",
   "version": "3.11.5"
  }
 },
 "nbformat": 4,
 "nbformat_minor": 2
}
